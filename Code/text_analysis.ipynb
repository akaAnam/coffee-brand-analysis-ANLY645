{
 "cells": [
  {
   "cell_type": "markdown",
   "metadata": {},
   "source": [
    "# TEXT ANALYSIS \n",
    "\n",
    "This file is broken into the following parts: \n",
    "\n",
    "1. Text cleaning and pre-processing\n",
    "\n",
    "2. Creating Document Term Matrices (DTMs)\n",
    "\n",
    "3. EDA \n",
    "\n",
    "4. Sentiment Analysis \n",
    "\n",
    "5. Filter Words (Experimental)\n"
   ]
  },
  {
   "cell_type": "markdown",
   "metadata": {},
   "source": [
    "## 1. TEXT CLEANING\n",
    "\n"
   ]
  },
  {
   "cell_type": "code",
   "execution_count": null,
   "metadata": {},
   "outputs": [],
   "source": []
  },
  {
   "cell_type": "markdown",
   "metadata": {},
   "source": [
    "## 2. DTM\n",
    "\n",
    "For each brand's DF, we create a DTM for \n",
    "\n",
    "* tweet text data\n",
    "\n",
    "* hastag data\n",
    "\n",
    "* a combination of the two"
   ]
  }
 ],
 "metadata": {
  "language_info": {
   "name": "python"
  },
  "orig_nbformat": 4
 },
 "nbformat": 4,
 "nbformat_minor": 2
}
