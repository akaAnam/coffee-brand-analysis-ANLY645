{
 "cells": [
  {
   "cell_type": "markdown",
   "metadata": {},
   "source": [
    "# Creation of Nodes & Edges for Network"
   ]
  },
  {
   "cell_type": "code",
   "execution_count": 1,
   "metadata": {},
   "outputs": [],
   "source": [
    "import pandas as pd\n",
    "import networkx as nx\n",
    "import matplotlib.pyplot as plt\n",
    "import time"
   ]
  },
  {
   "cell_type": "markdown",
   "metadata": {},
   "source": [
    "## Read in data"
   ]
  },
  {
   "cell_type": "code",
   "execution_count": 2,
   "metadata": {},
   "outputs": [],
   "source": [
    "dunkin = pd.read_csv(\"../Data/dunkin.csv\")\n",
    "starbucks = pd.read_csv(\"../Data/starbucks.csv\")"
   ]
  },
  {
   "cell_type": "code",
   "execution_count": 3,
   "metadata": {},
   "outputs": [
    {
     "name": "stdout",
     "output_type": "stream",
     "text": [
      "(7677, 25)\n"
     ]
    },
    {
     "data": {
      "text/html": [
       "<div>\n",
       "<style scoped>\n",
       "    .dataframe tbody tr th:only-of-type {\n",
       "        vertical-align: middle;\n",
       "    }\n",
       "\n",
       "    .dataframe tbody tr th {\n",
       "        vertical-align: top;\n",
       "    }\n",
       "\n",
       "    .dataframe thead th {\n",
       "        text-align: right;\n",
       "    }\n",
       "</style>\n",
       "<table border=\"1\" class=\"dataframe\">\n",
       "  <thead>\n",
       "    <tr style=\"text-align: right;\">\n",
       "      <th></th>\n",
       "      <th>Unnamed: 0</th>\n",
       "      <th>id</th>\n",
       "      <th>created_at</th>\n",
       "      <th>text</th>\n",
       "      <th>hashtags</th>\n",
       "      <th>user_mention_ids</th>\n",
       "      <th>user_mention_screen_names</th>\n",
       "      <th>retweet_count</th>\n",
       "      <th>favorite_count</th>\n",
       "      <th>in_reply_to_user_id</th>\n",
       "      <th>...</th>\n",
       "      <th>user_followers_count</th>\n",
       "      <th>user_favourites_count</th>\n",
       "      <th>user_verfied</th>\n",
       "      <th>user_statuses_count</th>\n",
       "      <th>num_words</th>\n",
       "      <th>negative</th>\n",
       "      <th>neutral</th>\n",
       "      <th>positive</th>\n",
       "      <th>sentiment_score</th>\n",
       "      <th>sentiment</th>\n",
       "    </tr>\n",
       "  </thead>\n",
       "  <tbody>\n",
       "    <tr>\n",
       "      <th>0</th>\n",
       "      <td>0</td>\n",
       "      <td>D1</td>\n",
       "      <td>2022-07-12 21:14:46</td>\n",
       "      <td>dunkin donut erwin tn mix frozen coffe ham bre...</td>\n",
       "      <td>NaN</td>\n",
       "      <td>[]</td>\n",
       "      <td>[]</td>\n",
       "      <td>0</td>\n",
       "      <td>0</td>\n",
       "      <td>NaN</td>\n",
       "      <td>...</td>\n",
       "      <td>2</td>\n",
       "      <td>11</td>\n",
       "      <td>False</td>\n",
       "      <td>12</td>\n",
       "      <td>29</td>\n",
       "      <td>0.121</td>\n",
       "      <td>0.879</td>\n",
       "      <td>0.000</td>\n",
       "      <td>-0.4019</td>\n",
       "      <td>negative</td>\n",
       "    </tr>\n",
       "    <tr>\n",
       "      <th>1</th>\n",
       "      <td>1</td>\n",
       "      <td>D2</td>\n",
       "      <td>2022-07-12 21:13:49</td>\n",
       "      <td>dunkin realli thing w snackin bacon wtf</td>\n",
       "      <td>NaN</td>\n",
       "      <td>[]</td>\n",
       "      <td>[]</td>\n",
       "      <td>0</td>\n",
       "      <td>0</td>\n",
       "      <td>NaN</td>\n",
       "      <td>...</td>\n",
       "      <td>2174</td>\n",
       "      <td>31581</td>\n",
       "      <td>False</td>\n",
       "      <td>72906</td>\n",
       "      <td>7</td>\n",
       "      <td>0.388</td>\n",
       "      <td>0.612</td>\n",
       "      <td>0.000</td>\n",
       "      <td>-0.5859</td>\n",
       "      <td>negative</td>\n",
       "    </tr>\n",
       "    <tr>\n",
       "      <th>2</th>\n",
       "      <td>2</td>\n",
       "      <td>D3</td>\n",
       "      <td>2022-07-12 21:11:55</td>\n",
       "      <td>dunkin gotta though lol</td>\n",
       "      <td>NaN</td>\n",
       "      <td>[54966102]</td>\n",
       "      <td>['Sherly_Francois']</td>\n",
       "      <td>0</td>\n",
       "      <td>0</td>\n",
       "      <td>5.496610e+07</td>\n",
       "      <td>...</td>\n",
       "      <td>3048</td>\n",
       "      <td>12989</td>\n",
       "      <td>False</td>\n",
       "      <td>45333</td>\n",
       "      <td>4</td>\n",
       "      <td>0.000</td>\n",
       "      <td>0.517</td>\n",
       "      <td>0.483</td>\n",
       "      <td>0.4215</td>\n",
       "      <td>positive</td>\n",
       "    </tr>\n",
       "    <tr>\n",
       "      <th>3</th>\n",
       "      <td>3</td>\n",
       "      <td>D4</td>\n",
       "      <td>2022-07-12 21:10:31</td>\n",
       "      <td>dunkin mobil dunkin mobil commerci</td>\n",
       "      <td>NaN</td>\n",
       "      <td>[]</td>\n",
       "      <td>[]</td>\n",
       "      <td>0</td>\n",
       "      <td>0</td>\n",
       "      <td>NaN</td>\n",
       "      <td>...</td>\n",
       "      <td>765</td>\n",
       "      <td>247</td>\n",
       "      <td>False</td>\n",
       "      <td>45338</td>\n",
       "      <td>5</td>\n",
       "      <td>0.000</td>\n",
       "      <td>1.000</td>\n",
       "      <td>0.000</td>\n",
       "      <td>0.0000</td>\n",
       "      <td>neutral</td>\n",
       "    </tr>\n",
       "    <tr>\n",
       "      <th>4</th>\n",
       "      <td>4</td>\n",
       "      <td>D5</td>\n",
       "      <td>2022-07-12 21:08:12</td>\n",
       "      <td>newish place long pond next bryant stanton rig...</td>\n",
       "      <td>NaN</td>\n",
       "      <td>[1677218400]</td>\n",
       "      <td>['PatrickGerald70']</td>\n",
       "      <td>0</td>\n",
       "      <td>0</td>\n",
       "      <td>1.677218e+09</td>\n",
       "      <td>...</td>\n",
       "      <td>379</td>\n",
       "      <td>31939</td>\n",
       "      <td>False</td>\n",
       "      <td>27597</td>\n",
       "      <td>12</td>\n",
       "      <td>0.000</td>\n",
       "      <td>0.894</td>\n",
       "      <td>0.106</td>\n",
       "      <td>0.0772</td>\n",
       "      <td>positive</td>\n",
       "    </tr>\n",
       "  </tbody>\n",
       "</table>\n",
       "<p>5 rows × 25 columns</p>\n",
       "</div>"
      ],
      "text/plain": [
       "   Unnamed: 0  id           created_at  \\\n",
       "0           0  D1  2022-07-12 21:14:46   \n",
       "1           1  D2  2022-07-12 21:13:49   \n",
       "2           2  D3  2022-07-12 21:11:55   \n",
       "3           3  D4  2022-07-12 21:10:31   \n",
       "4           4  D5  2022-07-12 21:08:12   \n",
       "\n",
       "                                                text hashtags  \\\n",
       "0  dunkin donut erwin tn mix frozen coffe ham bre...      NaN   \n",
       "1            dunkin realli thing w snackin bacon wtf      NaN   \n",
       "2                            dunkin gotta though lol      NaN   \n",
       "3                 dunkin mobil dunkin mobil commerci      NaN   \n",
       "4  newish place long pond next bryant stanton rig...      NaN   \n",
       "\n",
       "  user_mention_ids user_mention_screen_names  retweet_count  favorite_count  \\\n",
       "0               []                        []              0               0   \n",
       "1               []                        []              0               0   \n",
       "2       [54966102]       ['Sherly_Francois']              0               0   \n",
       "3               []                        []              0               0   \n",
       "4     [1677218400]       ['PatrickGerald70']              0               0   \n",
       "\n",
       "   in_reply_to_user_id  ... user_followers_count  user_favourites_count  \\\n",
       "0                  NaN  ...                    2                     11   \n",
       "1                  NaN  ...                 2174                  31581   \n",
       "2         5.496610e+07  ...                 3048                  12989   \n",
       "3                  NaN  ...                  765                    247   \n",
       "4         1.677218e+09  ...                  379                  31939   \n",
       "\n",
       "  user_verfied user_statuses_count  num_words  negative  neutral  positive  \\\n",
       "0        False                  12         29     0.121    0.879     0.000   \n",
       "1        False               72906          7     0.388    0.612     0.000   \n",
       "2        False               45333          4     0.000    0.517     0.483   \n",
       "3        False               45338          5     0.000    1.000     0.000   \n",
       "4        False               27597         12     0.000    0.894     0.106   \n",
       "\n",
       "   sentiment_score  sentiment  \n",
       "0          -0.4019   negative  \n",
       "1          -0.5859   negative  \n",
       "2           0.4215   positive  \n",
       "3           0.0000    neutral  \n",
       "4           0.0772   positive  \n",
       "\n",
       "[5 rows x 25 columns]"
      ]
     },
     "execution_count": 3,
     "metadata": {},
     "output_type": "execute_result"
    }
   ],
   "source": [
    "print(dunkin.shape)\n",
    "dunkin.head()"
   ]
  },
  {
   "cell_type": "code",
   "execution_count": 4,
   "metadata": {},
   "outputs": [
    {
     "name": "stdout",
     "output_type": "stream",
     "text": [
      "(7877, 25)\n"
     ]
    },
    {
     "data": {
      "text/html": [
       "<div>\n",
       "<style scoped>\n",
       "    .dataframe tbody tr th:only-of-type {\n",
       "        vertical-align: middle;\n",
       "    }\n",
       "\n",
       "    .dataframe tbody tr th {\n",
       "        vertical-align: top;\n",
       "    }\n",
       "\n",
       "    .dataframe thead th {\n",
       "        text-align: right;\n",
       "    }\n",
       "</style>\n",
       "<table border=\"1\" class=\"dataframe\">\n",
       "  <thead>\n",
       "    <tr style=\"text-align: right;\">\n",
       "      <th></th>\n",
       "      <th>Unnamed: 0</th>\n",
       "      <th>id</th>\n",
       "      <th>created_at</th>\n",
       "      <th>text</th>\n",
       "      <th>hashtags</th>\n",
       "      <th>user_mention_ids</th>\n",
       "      <th>user_mention_screen_names</th>\n",
       "      <th>retweet_count</th>\n",
       "      <th>favorite_count</th>\n",
       "      <th>in_reply_to_user_id</th>\n",
       "      <th>...</th>\n",
       "      <th>user_followers_count</th>\n",
       "      <th>user_favourites_count</th>\n",
       "      <th>user_verfied</th>\n",
       "      <th>user_statuses_count</th>\n",
       "      <th>num_words</th>\n",
       "      <th>negative</th>\n",
       "      <th>neutral</th>\n",
       "      <th>positive</th>\n",
       "      <th>sentiment_score</th>\n",
       "      <th>sentiment</th>\n",
       "    </tr>\n",
       "  </thead>\n",
       "  <tbody>\n",
       "    <tr>\n",
       "      <th>0</th>\n",
       "      <td>0</td>\n",
       "      <td>S1</td>\n",
       "      <td>2022-07-12 20:26:46</td>\n",
       "      <td>starbuck put whole starbussi shaken espresso c...</td>\n",
       "      <td>NaN</td>\n",
       "      <td>[]</td>\n",
       "      <td>[]</td>\n",
       "      <td>0</td>\n",
       "      <td>0</td>\n",
       "      <td>NaN</td>\n",
       "      <td>...</td>\n",
       "      <td>1147</td>\n",
       "      <td>72821</td>\n",
       "      <td>False</td>\n",
       "      <td>9319</td>\n",
       "      <td>10</td>\n",
       "      <td>0.126</td>\n",
       "      <td>0.874</td>\n",
       "      <td>0.000</td>\n",
       "      <td>-0.0772</td>\n",
       "      <td>negative</td>\n",
       "    </tr>\n",
       "    <tr>\n",
       "      <th>1</th>\n",
       "      <td>1</td>\n",
       "      <td>S2</td>\n",
       "      <td>2022-07-12 20:26:43</td>\n",
       "      <td>dear ex bestfriend want thank u chang liter en...</td>\n",
       "      <td>NaN</td>\n",
       "      <td>[]</td>\n",
       "      <td>[]</td>\n",
       "      <td>0</td>\n",
       "      <td>0</td>\n",
       "      <td>NaN</td>\n",
       "      <td>...</td>\n",
       "      <td>4</td>\n",
       "      <td>222</td>\n",
       "      <td>False</td>\n",
       "      <td>423</td>\n",
       "      <td>26</td>\n",
       "      <td>0.130</td>\n",
       "      <td>0.434</td>\n",
       "      <td>0.436</td>\n",
       "      <td>0.8750</td>\n",
       "      <td>positive</td>\n",
       "    </tr>\n",
       "    <tr>\n",
       "      <th>2</th>\n",
       "      <td>2</td>\n",
       "      <td>S3</td>\n",
       "      <td>2022-07-12 20:26:42</td>\n",
       "      <td>got half ice starbuck drink today</td>\n",
       "      <td>NaN</td>\n",
       "      <td>[]</td>\n",
       "      <td>[]</td>\n",
       "      <td>0</td>\n",
       "      <td>0</td>\n",
       "      <td>NaN</td>\n",
       "      <td>...</td>\n",
       "      <td>104</td>\n",
       "      <td>1128</td>\n",
       "      <td>False</td>\n",
       "      <td>6533</td>\n",
       "      <td>6</td>\n",
       "      <td>0.000</td>\n",
       "      <td>1.000</td>\n",
       "      <td>0.000</td>\n",
       "      <td>0.0000</td>\n",
       "      <td>neutral</td>\n",
       "    </tr>\n",
       "    <tr>\n",
       "      <th>3</th>\n",
       "      <td>5</td>\n",
       "      <td>S4</td>\n",
       "      <td>2022-07-12 20:26:29</td>\n",
       "      <td>tri hard destroy starbuck bathroom damn dragon...</td>\n",
       "      <td>NaN</td>\n",
       "      <td>[]</td>\n",
       "      <td>[]</td>\n",
       "      <td>0</td>\n",
       "      <td>0</td>\n",
       "      <td>NaN</td>\n",
       "      <td>...</td>\n",
       "      <td>78</td>\n",
       "      <td>2275</td>\n",
       "      <td>False</td>\n",
       "      <td>1356</td>\n",
       "      <td>9</td>\n",
       "      <td>0.559</td>\n",
       "      <td>0.441</td>\n",
       "      <td>0.000</td>\n",
       "      <td>-0.7650</td>\n",
       "      <td>negative</td>\n",
       "    </tr>\n",
       "    <tr>\n",
       "      <th>4</th>\n",
       "      <td>6</td>\n",
       "      <td>S5</td>\n",
       "      <td>2022-07-12 20:26:17</td>\n",
       "      <td>woke compani long donat democrat caus amp supp...</td>\n",
       "      <td>DemocratCrimeWave BlueCities Crime Starbucks E...</td>\n",
       "      <td>[]</td>\n",
       "      <td>[]</td>\n",
       "      <td>0</td>\n",
       "      <td>0</td>\n",
       "      <td>NaN</td>\n",
       "      <td>...</td>\n",
       "      <td>207</td>\n",
       "      <td>266</td>\n",
       "      <td>False</td>\n",
       "      <td>2196</td>\n",
       "      <td>18</td>\n",
       "      <td>0.261</td>\n",
       "      <td>0.459</td>\n",
       "      <td>0.279</td>\n",
       "      <td>-0.1280</td>\n",
       "      <td>negative</td>\n",
       "    </tr>\n",
       "  </tbody>\n",
       "</table>\n",
       "<p>5 rows × 25 columns</p>\n",
       "</div>"
      ],
      "text/plain": [
       "   Unnamed: 0  id           created_at  \\\n",
       "0           0  S1  2022-07-12 20:26:46   \n",
       "1           1  S2  2022-07-12 20:26:43   \n",
       "2           2  S3  2022-07-12 20:26:42   \n",
       "3           5  S4  2022-07-12 20:26:29   \n",
       "4           6  S5  2022-07-12 20:26:17   \n",
       "\n",
       "                                                text  \\\n",
       "0  starbuck put whole starbussi shaken espresso c...   \n",
       "1  dear ex bestfriend want thank u chang liter en...   \n",
       "2                  got half ice starbuck drink today   \n",
       "3  tri hard destroy starbuck bathroom damn dragon...   \n",
       "4  woke compani long donat democrat caus amp supp...   \n",
       "\n",
       "                                            hashtags user_mention_ids  \\\n",
       "0                                                NaN               []   \n",
       "1                                                NaN               []   \n",
       "2                                                NaN               []   \n",
       "3                                                NaN               []   \n",
       "4  DemocratCrimeWave BlueCities Crime Starbucks E...               []   \n",
       "\n",
       "  user_mention_screen_names  retweet_count  favorite_count  \\\n",
       "0                        []              0               0   \n",
       "1                        []              0               0   \n",
       "2                        []              0               0   \n",
       "3                        []              0               0   \n",
       "4                        []              0               0   \n",
       "\n",
       "   in_reply_to_user_id  ... user_followers_count  user_favourites_count  \\\n",
       "0                  NaN  ...                 1147                  72821   \n",
       "1                  NaN  ...                    4                    222   \n",
       "2                  NaN  ...                  104                   1128   \n",
       "3                  NaN  ...                   78                   2275   \n",
       "4                  NaN  ...                  207                    266   \n",
       "\n",
       "  user_verfied user_statuses_count  num_words  negative  neutral  positive  \\\n",
       "0        False                9319         10     0.126    0.874     0.000   \n",
       "1        False                 423         26     0.130    0.434     0.436   \n",
       "2        False                6533          6     0.000    1.000     0.000   \n",
       "3        False                1356          9     0.559    0.441     0.000   \n",
       "4        False                2196         18     0.261    0.459     0.279   \n",
       "\n",
       "   sentiment_score  sentiment  \n",
       "0          -0.0772   negative  \n",
       "1           0.8750   positive  \n",
       "2           0.0000    neutral  \n",
       "3          -0.7650   negative  \n",
       "4          -0.1280   negative  \n",
       "\n",
       "[5 rows x 25 columns]"
      ]
     },
     "execution_count": 4,
     "metadata": {},
     "output_type": "execute_result"
    }
   ],
   "source": [
    "print(starbucks.shape)\n",
    "starbucks.head()"
   ]
  },
  {
   "cell_type": "markdown",
   "metadata": {},
   "source": [
    "## Merge & Format data"
   ]
  },
  {
   "cell_type": "markdown",
   "metadata": {},
   "source": [
    "#### Add brand column"
   ]
  },
  {
   "cell_type": "code",
   "execution_count": 5,
   "metadata": {},
   "outputs": [],
   "source": [
    "dunkin['brand'] = 'dunkin'\n",
    "starbucks['brand'] = 'starbucks'"
   ]
  },
  {
   "cell_type": "markdown",
   "metadata": {},
   "source": [
    "#### Merge datasets"
   ]
  },
  {
   "cell_type": "code",
   "execution_count": 6,
   "metadata": {},
   "outputs": [
    {
     "data": {
      "text/plain": [
       "(15554, 27)"
      ]
     },
     "execution_count": 6,
     "metadata": {},
     "output_type": "execute_result"
    }
   ],
   "source": [
    "combined = pd.concat([starbucks, dunkin], ignore_index=True)\n",
    "combined.reset_index(inplace=True)\n",
    "combined.shape"
   ]
  },
  {
   "cell_type": "markdown",
   "metadata": {},
   "source": [
    "#### Each tweet's text into list of words"
   ]
  },
  {
   "cell_type": "code",
   "execution_count": 7,
   "metadata": {},
   "outputs": [
    {
     "name": "stdout",
     "output_type": "stream",
     "text": [
      "['starbuck', 'put', 'whole', 'starbussi', 'shaken', 'espresso', 'capit', 'realli', 'pop', 'one']\n"
     ]
    }
   ],
   "source": [
    "combined['text_split'] = combined['text'].str.split(' ')\n",
    "print(combined['text_split'][0])"
   ]
  },
  {
   "cell_type": "markdown",
   "metadata": {},
   "source": [
    "#### Remove tweets with no words"
   ]
  },
  {
   "cell_type": "code",
   "execution_count": 8,
   "metadata": {},
   "outputs": [
    {
     "name": "stdout",
     "output_type": "stream",
     "text": [
      "Number of Removed Tweets:  0\n"
     ]
    }
   ],
   "source": [
    "orig = len(combined)\n",
    "combined = combined[combined['text_split'].notna()]\n",
    "combined.reset_index(inplace=True)\n",
    "print(\"Number of Removed Tweets: \", orig-len(combined))"
   ]
  },
  {
   "cell_type": "markdown",
   "metadata": {},
   "source": [
    "#### Indicate if tweet was posted by \"influencer\" or not"
   ]
  },
  {
   "cell_type": "markdown",
   "metadata": {},
   "source": [
    "Examine distribution of user follower counts across all tweets"
   ]
  },
  {
   "cell_type": "code",
   "execution_count": 9,
   "metadata": {},
   "outputs": [
    {
     "data": {
      "image/png": "[encoded data removed]",
      "text/plain": [
       "<Figure size 432x288 with 1 Axes>"
      ]
     },
     "metadata": {
      "needs_background": "light"
     },
     "output_type": "display_data"
    }
   ],
   "source": [
    "plt.hist(x=combined['user_followers_count'])\n",
    "plt.title('Distribution of User Follower Counts')\n",
    "plt.show()"
   ]
  },
  {
   "cell_type": "code",
   "execution_count": 10,
   "metadata": {},
   "outputs": [
    {
     "data": {
      "text/plain": [
       "count    1.555400e+04\n",
       "mean     8.913709e+03\n",
       "std      1.994048e+05\n",
       "min      0.000000e+00\n",
       "25%      1.140000e+02\n",
       "50%      3.790000e+02\n",
       "75%      1.176000e+03\n",
       "max      1.999756e+07\n",
       "Name: user_followers_count, dtype: float64"
      ]
     },
     "execution_count": 10,
     "metadata": {},
     "output_type": "execute_result"
    }
   ],
   "source": [
    "combined['user_followers_count'].describe()"
   ]
  },
  {
   "cell_type": "markdown",
   "metadata": {},
   "source": [
    "Make influencer cutoff to get the minimum number of followers of top 10% of users in tweet collection"
   ]
  },
  {
   "cell_type": "code",
   "execution_count": 11,
   "metadata": {},
   "outputs": [
    {
     "name": "stdout",
     "output_type": "stream",
     "text": [
      "3623.4000000000087\n"
     ]
    }
   ],
   "source": [
    "influencer_cutoff = combined['user_followers_count'].quantile(0.9)\n",
    "print(influencer_cutoff)"
   ]
  },
  {
   "cell_type": "markdown",
   "metadata": {},
   "source": [
    "Assign 'infuencer' indicator to those in top amount of followers"
   ]
  },
  {
   "cell_type": "code",
   "execution_count": 12,
   "metadata": {},
   "outputs": [
    {
     "data": {
      "text/html": [
       "<div>\n",
       "<style scoped>\n",
       "    .dataframe tbody tr th:only-of-type {\n",
       "        vertical-align: middle;\n",
       "    }\n",
       "\n",
       "    .dataframe tbody tr th {\n",
       "        vertical-align: top;\n",
       "    }\n",
       "\n",
       "    .dataframe thead th {\n",
       "        text-align: right;\n",
       "    }\n",
       "</style>\n",
       "<table border=\"1\" class=\"dataframe\">\n",
       "  <thead>\n",
       "    <tr style=\"text-align: right;\">\n",
       "      <th></th>\n",
       "      <th>user_followers_count</th>\n",
       "      <th>influencer</th>\n",
       "    </tr>\n",
       "  </thead>\n",
       "  <tbody>\n",
       "    <tr>\n",
       "      <th>0</th>\n",
       "      <td>1147</td>\n",
       "      <td>No</td>\n",
       "    </tr>\n",
       "    <tr>\n",
       "      <th>1</th>\n",
       "      <td>4</td>\n",
       "      <td>No</td>\n",
       "    </tr>\n",
       "    <tr>\n",
       "      <th>2</th>\n",
       "      <td>104</td>\n",
       "      <td>No</td>\n",
       "    </tr>\n",
       "    <tr>\n",
       "      <th>3</th>\n",
       "      <td>78</td>\n",
       "      <td>No</td>\n",
       "    </tr>\n",
       "    <tr>\n",
       "      <th>4</th>\n",
       "      <td>207</td>\n",
       "      <td>No</td>\n",
       "    </tr>\n",
       "    <tr>\n",
       "      <th>5</th>\n",
       "      <td>30486</td>\n",
       "      <td>Yes</td>\n",
       "    </tr>\n",
       "    <tr>\n",
       "      <th>6</th>\n",
       "      <td>111</td>\n",
       "      <td>No</td>\n",
       "    </tr>\n",
       "    <tr>\n",
       "      <th>7</th>\n",
       "      <td>171</td>\n",
       "      <td>No</td>\n",
       "    </tr>\n",
       "    <tr>\n",
       "      <th>8</th>\n",
       "      <td>771</td>\n",
       "      <td>No</td>\n",
       "    </tr>\n",
       "    <tr>\n",
       "      <th>9</th>\n",
       "      <td>252</td>\n",
       "      <td>No</td>\n",
       "    </tr>\n",
       "    <tr>\n",
       "      <th>10</th>\n",
       "      <td>165</td>\n",
       "      <td>No</td>\n",
       "    </tr>\n",
       "    <tr>\n",
       "      <th>11</th>\n",
       "      <td>1312</td>\n",
       "      <td>No</td>\n",
       "    </tr>\n",
       "    <tr>\n",
       "      <th>12</th>\n",
       "      <td>32</td>\n",
       "      <td>No</td>\n",
       "    </tr>\n",
       "    <tr>\n",
       "      <th>13</th>\n",
       "      <td>408</td>\n",
       "      <td>No</td>\n",
       "    </tr>\n",
       "    <tr>\n",
       "      <th>14</th>\n",
       "      <td>286</td>\n",
       "      <td>No</td>\n",
       "    </tr>\n",
       "    <tr>\n",
       "      <th>15</th>\n",
       "      <td>8171</td>\n",
       "      <td>Yes</td>\n",
       "    </tr>\n",
       "    <tr>\n",
       "      <th>16</th>\n",
       "      <td>200</td>\n",
       "      <td>No</td>\n",
       "    </tr>\n",
       "    <tr>\n",
       "      <th>17</th>\n",
       "      <td>142</td>\n",
       "      <td>No</td>\n",
       "    </tr>\n",
       "    <tr>\n",
       "      <th>18</th>\n",
       "      <td>44</td>\n",
       "      <td>No</td>\n",
       "    </tr>\n",
       "    <tr>\n",
       "      <th>19</th>\n",
       "      <td>43</td>\n",
       "      <td>No</td>\n",
       "    </tr>\n",
       "  </tbody>\n",
       "</table>\n",
       "</div>"
      ],
      "text/plain": [
       "    user_followers_count influencer\n",
       "0                   1147         No\n",
       "1                      4         No\n",
       "2                    104         No\n",
       "3                     78         No\n",
       "4                    207         No\n",
       "5                  30486        Yes\n",
       "6                    111         No\n",
       "7                    171         No\n",
       "8                    771         No\n",
       "9                    252         No\n",
       "10                   165         No\n",
       "11                  1312         No\n",
       "12                    32         No\n",
       "13                   408         No\n",
       "14                   286         No\n",
       "15                  8171        Yes\n",
       "16                   200         No\n",
       "17                   142         No\n",
       "18                    44         No\n",
       "19                    43         No"
      ]
     },
     "execution_count": 12,
     "metadata": {},
     "output_type": "execute_result"
    }
   ],
   "source": [
    "combined['influencer'] = ['Yes' if x>influencer_cutoff else 'No' for x in combined['user_followers_count']]\n",
    "combined[['user_followers_count', 'influencer']].head(20)"
   ]
  },
  {
   "cell_type": "markdown",
   "metadata": {},
   "source": [
    "## Make nodes & edges"
   ]
  },
  {
   "cell_type": "markdown",
   "metadata": {},
   "source": [
    "#### Add all nodes and add edges between nodes with at least 3 similar words\n",
    "\n",
    "Make edge attributes of:\n",
    " - List of common words between 2 tweets\n",
    " - Number of common words between 2 tweets\n"
   ]
  },
  {
   "cell_type": "code",
   "execution_count": 19,
   "metadata": {},
   "outputs": [
    {
     "name": "stdout",
     "output_type": "stream",
     "text": [
      "i:  0\n",
      "time elapsed:  0.01  mins\n",
      "num nodes:  44\n",
      "num edges:  43 \n",
      "\n",
      "i:  1000\n",
      "time elapsed:  11.2  mins\n",
      "num nodes:  9861\n",
      "num edges:  218939 \n",
      "\n",
      "i:  2000\n",
      "time elapsed:  21.37  mins\n",
      "num nodes:  11332\n",
      "num edges:  387653 \n",
      "\n",
      "i:  3000\n",
      "time elapsed:  31.0  mins\n",
      "num nodes:  11826\n",
      "num edges:  532294 \n",
      "\n",
      "i:  4000\n",
      "time elapsed:  39.63  mins\n",
      "num nodes:  12281\n",
      "num edges:  652635 \n",
      "\n",
      "i:  5000\n",
      "time elapsed:  47.64  mins\n",
      "num nodes:  12593\n",
      "num edges:  748440 \n",
      "\n",
      "i:  6000\n",
      "time elapsed:  55.25  mins\n",
      "num nodes:  12958\n",
      "num edges:  812565 \n",
      "\n",
      "i:  7000\n",
      "time elapsed:  62.25  mins\n",
      "num nodes:  13213\n",
      "num edges:  862948 \n",
      "\n",
      "i:  8000\n",
      "time elapsed:  68.4  mins\n",
      "num nodes:  13834\n",
      "num edges:  923051 \n",
      "\n",
      "i:  9000\n",
      "time elapsed:  73.47  mins\n",
      "num nodes:  14621\n",
      "num edges:  1112450 \n",
      "\n",
      "i:  10000\n",
      "time elapsed:  77.95  mins\n",
      "num nodes:  14923\n",
      "num edges:  1257954 \n",
      "\n",
      "i:  11000\n",
      "time elapsed:  81.33  mins\n",
      "num nodes:  15085\n",
      "num edges:  1378789 \n",
      "\n",
      "i:  12000\n",
      "time elapsed:  84.16  mins\n",
      "num nodes:  15197\n",
      "num edges:  1476359 \n",
      "\n",
      "i:  13000\n",
      "time elapsed:  86.38  mins\n",
      "num nodes:  15311\n",
      "num edges:  1556176 \n",
      "\n",
      "i:  14000\n",
      "time elapsed:  87.86  mins\n",
      "num nodes:  15431\n",
      "num edges:  1603826 \n",
      "\n",
      "i:  15000\n",
      "time elapsed:  88.63  mins\n",
      "num nodes:  15526\n",
      "num edges:  1630840 \n",
      "\n",
      "~~~~~~ Complete ~~~~~~\n",
      "Total Time:  88.74  mins\n",
      "Number of Nodes:  15554\n",
      "Number of Edges:  1635117\n"
     ]
    }
   ],
   "source": [
    "start_time = time.time()\n",
    "G = nx.Graph()\n",
    "for i in range(len(combined)):\n",
    "    for j in range(i,len(combined)):\n",
    "        if i != j:\n",
    "            count = 0\n",
    "            common_words = []\n",
    "            for word in set(combined['text_split'][i]):\n",
    "                if word in set(combined['text_split'][j]):\n",
    "                    count += 1\n",
    "                    common_words.append(word)\n",
    "            if count >= 3:\n",
    "                G.add_edge(combined['id'][i], combined['id'][j], common_words=common_words, count_of_words=count)\n",
    "    if combined['id'][i] not in G:\n",
    "         G.add_node(combined['id'][i])\n",
    "    if i % 1000 == 0:\n",
    "        print(\"i: \", i)\n",
    "        print(\"time elapsed: \", round((time.time()-start_time)/60,2), \" mins\")\n",
    "        print(\"num nodes: \", len(G.nodes))\n",
    "        print(\"num edges: \", len(G.edges), '\\n')\n",
    "print(\"~~~~~~ Complete ~~~~~~\")\n",
    "print(\"Total Time: \", round((time.time()-start_time)/60,2), \" mins\")\n",
    "print(\"Number of Nodes: \", len(G.nodes))\n",
    "print(\"Number of Edges: \", len(G.edges))"
   ]
  },
  {
   "cell_type": "markdown",
   "metadata": {},
   "source": [
    "#### Add node attributes\n",
    "\n",
    "Node attributes of:\n",
    " - Brand (options: starbucks or dunkin)\n",
    " - If influencer (options: Yes or No)\n",
    " - Sentiment (options: positive, neutral, or negative)\n",
    " - User follower count (number)\n",
    " - Tweet retweet count (number)\n",
    " - Tweet favorite count (number)"
   ]
  },
  {
   "cell_type": "code",
   "execution_count": 20,
   "metadata": {},
   "outputs": [],
   "source": [
    "node_names = combined['id']\n",
    "nx.set_node_attributes(G, dict(zip(node_names, combined['brand'])), name=\"brand\")\n",
    "nx.set_node_attributes(G, dict(zip(node_names, combined['influencer'])), name=\"influencer_status\")\n",
    "nx.set_node_attributes(G, dict(zip(node_names, combined['sentiment'])), name=\"sentiment\")\n",
    "nx.set_node_attributes(G, dict(zip(node_names, combined['user_followers_count'])), name=\"user_followers_count\")\n",
    "nx.set_node_attributes(G, dict(zip(node_names, combined['retweet_count'])), name=\"retweet_count\")\n",
    "nx.set_node_attributes(G, dict(zip(node_names, combined['favorite_count'])), name=\"favorite_count\")"
   ]
  },
  {
   "cell_type": "markdown",
   "metadata": {},
   "source": [
    "#### Remove singletons"
   ]
  },
  {
   "cell_type": "code",
   "execution_count": 21,
   "metadata": {},
   "outputs": [],
   "source": [
    "G.remove_nodes_from(list(nx.isolates(G)))"
   ]
  },
  {
   "cell_type": "code",
   "execution_count": 22,
   "metadata": {},
   "outputs": [
    {
     "name": "stdout",
     "output_type": "stream",
     "text": [
      "Number of Nodes:  14611\n",
      "Number of Edges:  1635117\n"
     ]
    }
   ],
   "source": [
    "print(\"Number of Nodes: \", len(G.nodes))\n",
    "print(\"Number of Edges: \", len(G.edges))"
   ]
  },
  {
   "cell_type": "markdown",
   "metadata": {},
   "source": [
    "#### Save data to gml file"
   ]
  },
  {
   "cell_type": "code",
   "execution_count": 23,
   "metadata": {},
   "outputs": [],
   "source": [
    "nx.write_gml(G, \"../Data/G_data.gml\")"
   ]
  },
  {
   "cell_type": "markdown",
   "metadata": {},
   "source": [
    "## Get network of sampled data"
   ]
  },
  {
   "cell_type": "markdown",
   "metadata": {},
   "source": [
    "#### Get sample of merged/formatted dataset for testing"
   ]
  },
  {
   "cell_type": "code",
   "execution_count": 16,
   "metadata": {},
   "outputs": [
    {
     "data": {
      "text/plain": [
       "(200, 30)"
      ]
     },
     "execution_count": 16,
     "metadata": {},
     "output_type": "execute_result"
    }
   ],
   "source": [
    "combined_sampled = pd.concat([combined[combined.brand == \"starbucks\"].sample(100), \n",
    "                              combined[combined.brand == \"dunkin\"].sample(100)],\n",
    "                            ignore_index=True)\n",
    "combined_sampled.shape"
   ]
  },
  {
   "cell_type": "markdown",
   "metadata": {},
   "source": [
    "#### Make network"
   ]
  },
  {
   "cell_type": "code",
   "execution_count": 17,
   "metadata": {},
   "outputs": [
    {
     "name": "stdout",
     "output_type": "stream",
     "text": [
      "Number of Nodes:  126\n",
      "Number of Edges:  286\n"
     ]
    }
   ],
   "source": [
    "# Instantiate graph\n",
    "G_small = nx.Graph()\n",
    "\n",
    "# Add all nodes with edges\n",
    "for i in range(len(combined_sampled)):\n",
    "    for j in range(i,len(combined_sampled)):\n",
    "        if i != j:\n",
    "            count = 0\n",
    "            common_words = []\n",
    "            for word in set(combined_sampled['text_split'][i]):\n",
    "                if word in set(combined_sampled['text_split'][j]):\n",
    "                    count += 1\n",
    "                    common_words.append(word)\n",
    "            if count >= 3:\n",
    "                G_small.add_edge(combined_sampled['id'][i], combined_sampled['id'][j], common_words=common_words, count_of_words=count)\n",
    "    if combined_sampled['id'][i] not in G_small:\n",
    "         G_small.add_node(combined_sampled['id'][i])\n",
    "\n",
    "# Add node attributes\n",
    "node_names_small = combined_sampled['id']\n",
    "nx.set_node_attributes(G_small, dict(zip(node_names_small, combined_sampled['brand'])), name=\"brand\")\n",
    "nx.set_node_attributes(G_small, dict(zip(node_names_small, combined_sampled['influencer'])), name=\"influencer_status\")\n",
    "nx.set_node_attributes(G_small, dict(zip(node_names_small, combined_sampled['sentiment'])), name=\"sentiment\")\n",
    "nx.set_node_attributes(G_small, dict(zip(node_names_small, combined_sampled['user_followers_count'])), name=\"user_followers_count\")\n",
    "nx.set_node_attributes(G_small, dict(zip(node_names_small, combined_sampled['retweet_count'])), name=\"retweet_count\")\n",
    "nx.set_node_attributes(G_small, dict(zip(node_names_small, combined_sampled['favorite_count'])), name=\"favorite_count\")\n",
    "\n",
    "# Remove singletons\n",
    "G_small.remove_nodes_from(list(nx.isolates(G_small)))\n",
    "\n",
    "# Print size\n",
    "print(\"Number of Nodes: \", len(G_small.nodes))\n",
    "print(\"Number of Edges: \", len(G_small.edges))"
   ]
  },
  {
   "cell_type": "markdown",
   "metadata": {},
   "source": [
    "#### Save data to gml file"
   ]
  },
  {
   "cell_type": "code",
   "execution_count": 18,
   "metadata": {},
   "outputs": [],
   "source": [
    "nx.write_gml(G_small, \"../Data/G_data_sampled.gml\")"
   ]
  }
 ],
 "metadata": {
  "kernelspec": {
   "display_name": "Python 3.10.4 ('ANLY645')",
   "language": "python",
   "name": "python3"
  },
  "language_info": {
   "codemirror_mode": {
    "name": "ipython",
    "version": 3
   },
   "file_extension": ".py",
   "mimetype": "text/x-python",
   "name": "python",
   "nbconvert_exporter": "python",
   "pygments_lexer": "ipython3",
   "version": "3.10.4"
  },
  "orig_nbformat": 4,
  "vscode": {
   "interpreter": {
    "hash": "8f718268ac5e954855c00b43ca8effff2f35b891eea43ef572ebf8cedce7340f"
   }
  }
 },
 "nbformat": 4,
 "nbformat_minor": 2
}
